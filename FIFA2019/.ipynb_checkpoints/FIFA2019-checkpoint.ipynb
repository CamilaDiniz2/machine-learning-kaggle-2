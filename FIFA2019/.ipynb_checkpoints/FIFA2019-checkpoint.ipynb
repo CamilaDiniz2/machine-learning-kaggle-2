{
 "cells": [
  {
   "cell_type": "markdown",
   "metadata": {},
   "source": [
    "# Agrupamento na base de dados de jogadores do FIFA 2019\n",
    "\n",
    "Esta base de dados contém 89 atributos de 18.2K jogadores de futebol da edição 2019 do FIFA. \n",
    "\n",
    "Link para a base de dados no Kaggle: https://www.kaggle.com/karangadiya/fifa19\n",
    "\n",
    "Vamos usar as características técnicas de cada jogador, juntamente com a altura e peso para agrupá-los em um perfil técnico. Investigaremos as relações entre estes perfis e as posições originais dos jogadores.\n",
    "\n",
    "![alt text](https://drive.google.com/uc?id=1gU3b_FK3uYremYa_k6crSiGfTrEiKdaQ)\n",
    "\n",
    "Curso: Machine Learning para Competições Kaggle - curso 2 (Udemy)"
   ]
  },
  {
   "cell_type": "markdown",
   "metadata": {},
   "source": [
    "## Importação das bibliotecas necessárias"
   ]
  },
  {
   "cell_type": "code",
   "execution_count": 2,
   "metadata": {},
   "outputs": [],
   "source": [
    "import numpy as np\n",
    "import pandas as pd\n",
    "import matplotlib.pyplot as plt\n",
    "import matplotlib.cm as cm\n",
    "from sklearn.preprocessing import MinMaxScaler\n",
    "from sklearn.cluster import KMeans\n",
    "from sklearn.decomposition import PCA\n",
    "from sklearn.metrics import silhouette_samples, silhouette_score\n",
    "from sklearn.ensemble import RandomForestClassifier\n",
    "from collections import Counter"
   ]
  },
  {
   "cell_type": "markdown",
   "metadata": {},
   "source": [
    "## Carregar a base de dados"
   ]
  },
  {
   "cell_type": "code",
   "execution_count": null,
   "metadata": {},
   "outputs": [],
   "source": []
  },
  {
   "cell_type": "code",
   "execution_count": null,
   "metadata": {},
   "outputs": [],
   "source": [
    "df = pd.read_csv()"
   ]
  }
 ],
 "metadata": {
  "kernelspec": {
   "display_name": "Python 3",
   "language": "python",
   "name": "python3"
  },
  "language_info": {
   "codemirror_mode": {
    "name": "ipython",
    "version": 3
   },
   "file_extension": ".py",
   "mimetype": "text/x-python",
   "name": "python",
   "nbconvert_exporter": "python",
   "pygments_lexer": "ipython3",
   "version": "3.7.6"
  }
 },
 "nbformat": 4,
 "nbformat_minor": 4
}
