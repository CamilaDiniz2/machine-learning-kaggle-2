{
 "cells": [
  {
   "cell_type": "markdown",
   "metadata": {},
   "source": [
    "# Agrupamento na base de dados de jogadores do FIFA 2019\n",
    "\n",
    "Esta base de dados contém 89 atributos de 18.2K jogadores de futebol da edição 2019 do FIFA. \n",
    "\n",
    "Link para a base de dados no Kaggle: https://www.kaggle.com/karangadiya/fifa19\n",
    "\n",
    "Foram usadas as características técnicas dos jogadores, além da altura e peso com o objetivo de agrupá-los em um determinado perfil usando KMeans\n",
    "\n",
    "Curso: Machine Learning para Competições Kaggle - curso 2 (Udemy)"
   ]
  },
  {
   "cell_type": "markdown",
   "metadata": {},
   "source": [
    "## Importação das bibliotecas necessárias"
   ]
  },
  {
   "cell_type": "code",
   "execution_count": 1,
   "metadata": {},
   "outputs": [],
   "source": [
    "import numpy as np\n",
    "import pandas as pd\n",
    "import matplotlib.pyplot as plt\n",
    "import matplotlib.cm as cm\n",
    "from sklearn.preprocessing import MinMaxScaler\n",
    "from sklearn.cluster import KMeans\n",
    "from sklearn.decomposition import PCA\n",
    "from sklearn.metrics import silhouette_samples, silhouette_score\n",
    "from sklearn.ensemble import RandomForestClassifier\n",
    "from collections import Counter"
   ]
  },
  {
   "cell_type": "markdown",
   "metadata": {},
   "source": [
    "## Carregar a base de dados"
   ]
  },
  {
   "cell_type": "code",
   "execution_count": 2,
   "metadata": {},
   "outputs": [
    {
     "data": {
      "text/html": [
       "<div>\n",
       "<style scoped>\n",
       "    .dataframe tbody tr th:only-of-type {\n",
       "        vertical-align: middle;\n",
       "    }\n",
       "\n",
       "    .dataframe tbody tr th {\n",
       "        vertical-align: top;\n",
       "    }\n",
       "\n",
       "    .dataframe thead th {\n",
       "        text-align: right;\n",
       "    }\n",
       "</style>\n",
       "<table border=\"1\" class=\"dataframe\">\n",
       "  <thead>\n",
       "    <tr style=\"text-align: right;\">\n",
       "      <th></th>\n",
       "      <th>Unnamed: 0</th>\n",
       "      <th>ID</th>\n",
       "      <th>Name</th>\n",
       "      <th>Age</th>\n",
       "      <th>Photo</th>\n",
       "      <th>Nationality</th>\n",
       "      <th>Flag</th>\n",
       "      <th>Overall</th>\n",
       "      <th>Potential</th>\n",
       "      <th>Club</th>\n",
       "      <th>...</th>\n",
       "      <th>Composure</th>\n",
       "      <th>Marking</th>\n",
       "      <th>StandingTackle</th>\n",
       "      <th>SlidingTackle</th>\n",
       "      <th>GKDiving</th>\n",
       "      <th>GKHandling</th>\n",
       "      <th>GKKicking</th>\n",
       "      <th>GKPositioning</th>\n",
       "      <th>GKReflexes</th>\n",
       "      <th>Release Clause</th>\n",
       "    </tr>\n",
       "  </thead>\n",
       "  <tbody>\n",
       "    <tr>\n",
       "      <th>0</th>\n",
       "      <td>0</td>\n",
       "      <td>158023</td>\n",
       "      <td>L. Messi</td>\n",
       "      <td>31</td>\n",
       "      <td>https://cdn.sofifa.org/players/4/19/158023.png</td>\n",
       "      <td>Argentina</td>\n",
       "      <td>https://cdn.sofifa.org/flags/52.png</td>\n",
       "      <td>94</td>\n",
       "      <td>94</td>\n",
       "      <td>FC Barcelona</td>\n",
       "      <td>...</td>\n",
       "      <td>96.0</td>\n",
       "      <td>33.0</td>\n",
       "      <td>28.0</td>\n",
       "      <td>26.0</td>\n",
       "      <td>6.0</td>\n",
       "      <td>11.0</td>\n",
       "      <td>15.0</td>\n",
       "      <td>14.0</td>\n",
       "      <td>8.0</td>\n",
       "      <td>€226.5M</td>\n",
       "    </tr>\n",
       "    <tr>\n",
       "      <th>1</th>\n",
       "      <td>1</td>\n",
       "      <td>20801</td>\n",
       "      <td>Cristiano Ronaldo</td>\n",
       "      <td>33</td>\n",
       "      <td>https://cdn.sofifa.org/players/4/19/20801.png</td>\n",
       "      <td>Portugal</td>\n",
       "      <td>https://cdn.sofifa.org/flags/38.png</td>\n",
       "      <td>94</td>\n",
       "      <td>94</td>\n",
       "      <td>Juventus</td>\n",
       "      <td>...</td>\n",
       "      <td>95.0</td>\n",
       "      <td>28.0</td>\n",
       "      <td>31.0</td>\n",
       "      <td>23.0</td>\n",
       "      <td>7.0</td>\n",
       "      <td>11.0</td>\n",
       "      <td>15.0</td>\n",
       "      <td>14.0</td>\n",
       "      <td>11.0</td>\n",
       "      <td>€127.1M</td>\n",
       "    </tr>\n",
       "    <tr>\n",
       "      <th>2</th>\n",
       "      <td>2</td>\n",
       "      <td>190871</td>\n",
       "      <td>Neymar Jr</td>\n",
       "      <td>26</td>\n",
       "      <td>https://cdn.sofifa.org/players/4/19/190871.png</td>\n",
       "      <td>Brazil</td>\n",
       "      <td>https://cdn.sofifa.org/flags/54.png</td>\n",
       "      <td>92</td>\n",
       "      <td>93</td>\n",
       "      <td>Paris Saint-Germain</td>\n",
       "      <td>...</td>\n",
       "      <td>94.0</td>\n",
       "      <td>27.0</td>\n",
       "      <td>24.0</td>\n",
       "      <td>33.0</td>\n",
       "      <td>9.0</td>\n",
       "      <td>9.0</td>\n",
       "      <td>15.0</td>\n",
       "      <td>15.0</td>\n",
       "      <td>11.0</td>\n",
       "      <td>€228.1M</td>\n",
       "    </tr>\n",
       "    <tr>\n",
       "      <th>3</th>\n",
       "      <td>3</td>\n",
       "      <td>193080</td>\n",
       "      <td>De Gea</td>\n",
       "      <td>27</td>\n",
       "      <td>https://cdn.sofifa.org/players/4/19/193080.png</td>\n",
       "      <td>Spain</td>\n",
       "      <td>https://cdn.sofifa.org/flags/45.png</td>\n",
       "      <td>91</td>\n",
       "      <td>93</td>\n",
       "      <td>Manchester United</td>\n",
       "      <td>...</td>\n",
       "      <td>68.0</td>\n",
       "      <td>15.0</td>\n",
       "      <td>21.0</td>\n",
       "      <td>13.0</td>\n",
       "      <td>90.0</td>\n",
       "      <td>85.0</td>\n",
       "      <td>87.0</td>\n",
       "      <td>88.0</td>\n",
       "      <td>94.0</td>\n",
       "      <td>€138.6M</td>\n",
       "    </tr>\n",
       "    <tr>\n",
       "      <th>4</th>\n",
       "      <td>4</td>\n",
       "      <td>192985</td>\n",
       "      <td>K. De Bruyne</td>\n",
       "      <td>27</td>\n",
       "      <td>https://cdn.sofifa.org/players/4/19/192985.png</td>\n",
       "      <td>Belgium</td>\n",
       "      <td>https://cdn.sofifa.org/flags/7.png</td>\n",
       "      <td>91</td>\n",
       "      <td>92</td>\n",
       "      <td>Manchester City</td>\n",
       "      <td>...</td>\n",
       "      <td>88.0</td>\n",
       "      <td>68.0</td>\n",
       "      <td>58.0</td>\n",
       "      <td>51.0</td>\n",
       "      <td>15.0</td>\n",
       "      <td>13.0</td>\n",
       "      <td>5.0</td>\n",
       "      <td>10.0</td>\n",
       "      <td>13.0</td>\n",
       "      <td>€196.4M</td>\n",
       "    </tr>\n",
       "  </tbody>\n",
       "</table>\n",
       "<p>5 rows × 89 columns</p>\n",
       "</div>"
      ],
      "text/plain": [
       "   Unnamed: 0      ID               Name  Age  \\\n",
       "0           0  158023           L. Messi   31   \n",
       "1           1   20801  Cristiano Ronaldo   33   \n",
       "2           2  190871          Neymar Jr   26   \n",
       "3           3  193080             De Gea   27   \n",
       "4           4  192985       K. De Bruyne   27   \n",
       "\n",
       "                                            Photo Nationality  \\\n",
       "0  https://cdn.sofifa.org/players/4/19/158023.png   Argentina   \n",
       "1   https://cdn.sofifa.org/players/4/19/20801.png    Portugal   \n",
       "2  https://cdn.sofifa.org/players/4/19/190871.png      Brazil   \n",
       "3  https://cdn.sofifa.org/players/4/19/193080.png       Spain   \n",
       "4  https://cdn.sofifa.org/players/4/19/192985.png     Belgium   \n",
       "\n",
       "                                  Flag  Overall  Potential  \\\n",
       "0  https://cdn.sofifa.org/flags/52.png       94         94   \n",
       "1  https://cdn.sofifa.org/flags/38.png       94         94   \n",
       "2  https://cdn.sofifa.org/flags/54.png       92         93   \n",
       "3  https://cdn.sofifa.org/flags/45.png       91         93   \n",
       "4   https://cdn.sofifa.org/flags/7.png       91         92   \n",
       "\n",
       "                  Club  ... Composure Marking StandingTackle  SlidingTackle  \\\n",
       "0         FC Barcelona  ...      96.0    33.0           28.0           26.0   \n",
       "1             Juventus  ...      95.0    28.0           31.0           23.0   \n",
       "2  Paris Saint-Germain  ...      94.0    27.0           24.0           33.0   \n",
       "3    Manchester United  ...      68.0    15.0           21.0           13.0   \n",
       "4      Manchester City  ...      88.0    68.0           58.0           51.0   \n",
       "\n",
       "  GKDiving  GKHandling  GKKicking  GKPositioning GKReflexes Release Clause  \n",
       "0      6.0        11.0       15.0           14.0        8.0        €226.5M  \n",
       "1      7.0        11.0       15.0           14.0       11.0        €127.1M  \n",
       "2      9.0         9.0       15.0           15.0       11.0        €228.1M  \n",
       "3     90.0        85.0       87.0           88.0       94.0        €138.6M  \n",
       "4     15.0        13.0        5.0           10.0       13.0        €196.4M  \n",
       "\n",
       "[5 rows x 89 columns]"
      ]
     },
     "execution_count": 2,
     "metadata": {},
     "output_type": "execute_result"
    }
   ],
   "source": [
    "# carrega a base de dados que está em formato csv\n",
    "df = pd.read_csv('data.csv')\n",
    "df.head()"
   ]
  },
  {
   "cell_type": "code",
   "execution_count": 3,
   "metadata": {},
   "outputs": [
    {
     "data": {
      "text/plain": [
       "(18207, 89)"
      ]
     },
     "execution_count": 3,
     "metadata": {},
     "output_type": "execute_result"
    }
   ],
   "source": [
    "## tamanho do banco de dados\n",
    "df.shape"
   ]
  },
  {
   "cell_type": "code",
   "execution_count": 4,
   "metadata": {},
   "outputs": [
    {
     "name": "stdout",
     "output_type": "stream",
     "text": [
      "0 Unnamed: 0\n",
      "1 ID\n",
      "2 Name\n",
      "3 Age\n",
      "4 Photo\n",
      "5 Nationality\n",
      "6 Flag\n",
      "7 Overall\n",
      "8 Potential\n",
      "9 Club\n",
      "10 Club Logo\n",
      "11 Value\n",
      "12 Wage\n",
      "13 Special\n",
      "14 Preferred Foot\n",
      "15 International Reputation\n",
      "16 Weak Foot\n",
      "17 Skill Moves\n",
      "18 Work Rate\n",
      "19 Body Type\n",
      "20 Real Face\n",
      "21 Position\n",
      "22 Jersey Number\n",
      "23 Joined\n",
      "24 Loaned From\n",
      "25 Contract Valid Until\n",
      "26 Height\n",
      "27 Weight\n",
      "28 LS\n",
      "29 ST\n",
      "30 RS\n",
      "31 LW\n",
      "32 LF\n",
      "33 CF\n",
      "34 RF\n",
      "35 RW\n",
      "36 LAM\n",
      "37 CAM\n",
      "38 RAM\n",
      "39 LM\n",
      "40 LCM\n",
      "41 CM\n",
      "42 RCM\n",
      "43 RM\n",
      "44 LWB\n",
      "45 LDM\n",
      "46 CDM\n",
      "47 RDM\n",
      "48 RWB\n",
      "49 LB\n",
      "50 LCB\n",
      "51 CB\n",
      "52 RCB\n",
      "53 RB\n",
      "54 Crossing\n",
      "55 Finishing\n",
      "56 HeadingAccuracy\n",
      "57 ShortPassing\n",
      "58 Volleys\n",
      "59 Dribbling\n",
      "60 Curve\n",
      "61 FKAccuracy\n",
      "62 LongPassing\n",
      "63 BallControl\n",
      "64 Acceleration\n",
      "65 SprintSpeed\n",
      "66 Agility\n",
      "67 Reactions\n",
      "68 Balance\n",
      "69 ShotPower\n",
      "70 Jumping\n",
      "71 Stamina\n",
      "72 Strength\n",
      "73 LongShots\n",
      "74 Aggression\n",
      "75 Interceptions\n",
      "76 Positioning\n",
      "77 Vision\n",
      "78 Penalties\n",
      "79 Composure\n",
      "80 Marking\n",
      "81 StandingTackle\n",
      "82 SlidingTackle\n",
      "83 GKDiving\n",
      "84 GKHandling\n",
      "85 GKKicking\n",
      "86 GKPositioning\n",
      "87 GKReflexes\n",
      "88 Release Clause\n"
     ]
    }
   ],
   "source": [
    "## Lista todas as colunas\n",
    "for i, column in enumerate(df.columns):\n",
    "    print(i, column)"
   ]
  },
  {
   "cell_type": "code",
   "execution_count": 5,
   "metadata": {},
   "outputs": [],
   "source": [
    "## seleciona as colunas 21, 26, 27, e de 54 até 83, que são as colunas dos atributos dos jogadores que serão utilizadas\n",
    "columns = [21, 26, 27]\n",
    "columns += range(54, 83)"
   ]
  },
  {
   "cell_type": "code",
   "execution_count": 6,
   "metadata": {},
   "outputs": [
    {
     "name": "stdout",
     "output_type": "stream",
     "text": [
      "[21, 26, 27, 54, 55, 56, 57, 58, 59, 60, 61, 62, 63, 64, 65, 66, 67, 68, 69, 70, 71, 72, 73, 74, 75, 76, 77, 78, 79, 80, 81, 82]\n"
     ]
    }
   ],
   "source": [
    "print(columns)"
   ]
  },
  {
   "cell_type": "code",
   "execution_count": 7,
   "metadata": {},
   "outputs": [],
   "source": [
    "## Atualiza nosso ddf com apenas as colunas que serão usadas\n",
    "df = df.iloc[:, columns]"
   ]
  },
  {
   "cell_type": "code",
   "execution_count": 8,
   "metadata": {},
   "outputs": [
    {
     "data": {
      "text/html": [
       "<div>\n",
       "<style scoped>\n",
       "    .dataframe tbody tr th:only-of-type {\n",
       "        vertical-align: middle;\n",
       "    }\n",
       "\n",
       "    .dataframe tbody tr th {\n",
       "        vertical-align: top;\n",
       "    }\n",
       "\n",
       "    .dataframe thead th {\n",
       "        text-align: right;\n",
       "    }\n",
       "</style>\n",
       "<table border=\"1\" class=\"dataframe\">\n",
       "  <thead>\n",
       "    <tr style=\"text-align: right;\">\n",
       "      <th></th>\n",
       "      <th>Position</th>\n",
       "      <th>Height</th>\n",
       "      <th>Weight</th>\n",
       "      <th>Crossing</th>\n",
       "      <th>Finishing</th>\n",
       "      <th>HeadingAccuracy</th>\n",
       "      <th>ShortPassing</th>\n",
       "      <th>Volleys</th>\n",
       "      <th>Dribbling</th>\n",
       "      <th>Curve</th>\n",
       "      <th>...</th>\n",
       "      <th>LongShots</th>\n",
       "      <th>Aggression</th>\n",
       "      <th>Interceptions</th>\n",
       "      <th>Positioning</th>\n",
       "      <th>Vision</th>\n",
       "      <th>Penalties</th>\n",
       "      <th>Composure</th>\n",
       "      <th>Marking</th>\n",
       "      <th>StandingTackle</th>\n",
       "      <th>SlidingTackle</th>\n",
       "    </tr>\n",
       "  </thead>\n",
       "  <tbody>\n",
       "    <tr>\n",
       "      <th>0</th>\n",
       "      <td>RF</td>\n",
       "      <td>5'7</td>\n",
       "      <td>159lbs</td>\n",
       "      <td>84.0</td>\n",
       "      <td>95.0</td>\n",
       "      <td>70.0</td>\n",
       "      <td>90.0</td>\n",
       "      <td>86.0</td>\n",
       "      <td>97.0</td>\n",
       "      <td>93.0</td>\n",
       "      <td>...</td>\n",
       "      <td>94.0</td>\n",
       "      <td>48.0</td>\n",
       "      <td>22.0</td>\n",
       "      <td>94.0</td>\n",
       "      <td>94.0</td>\n",
       "      <td>75.0</td>\n",
       "      <td>96.0</td>\n",
       "      <td>33.0</td>\n",
       "      <td>28.0</td>\n",
       "      <td>26.0</td>\n",
       "    </tr>\n",
       "    <tr>\n",
       "      <th>1</th>\n",
       "      <td>ST</td>\n",
       "      <td>6'2</td>\n",
       "      <td>183lbs</td>\n",
       "      <td>84.0</td>\n",
       "      <td>94.0</td>\n",
       "      <td>89.0</td>\n",
       "      <td>81.0</td>\n",
       "      <td>87.0</td>\n",
       "      <td>88.0</td>\n",
       "      <td>81.0</td>\n",
       "      <td>...</td>\n",
       "      <td>93.0</td>\n",
       "      <td>63.0</td>\n",
       "      <td>29.0</td>\n",
       "      <td>95.0</td>\n",
       "      <td>82.0</td>\n",
       "      <td>85.0</td>\n",
       "      <td>95.0</td>\n",
       "      <td>28.0</td>\n",
       "      <td>31.0</td>\n",
       "      <td>23.0</td>\n",
       "    </tr>\n",
       "    <tr>\n",
       "      <th>2</th>\n",
       "      <td>LW</td>\n",
       "      <td>5'9</td>\n",
       "      <td>150lbs</td>\n",
       "      <td>79.0</td>\n",
       "      <td>87.0</td>\n",
       "      <td>62.0</td>\n",
       "      <td>84.0</td>\n",
       "      <td>84.0</td>\n",
       "      <td>96.0</td>\n",
       "      <td>88.0</td>\n",
       "      <td>...</td>\n",
       "      <td>82.0</td>\n",
       "      <td>56.0</td>\n",
       "      <td>36.0</td>\n",
       "      <td>89.0</td>\n",
       "      <td>87.0</td>\n",
       "      <td>81.0</td>\n",
       "      <td>94.0</td>\n",
       "      <td>27.0</td>\n",
       "      <td>24.0</td>\n",
       "      <td>33.0</td>\n",
       "    </tr>\n",
       "    <tr>\n",
       "      <th>3</th>\n",
       "      <td>GK</td>\n",
       "      <td>6'4</td>\n",
       "      <td>168lbs</td>\n",
       "      <td>17.0</td>\n",
       "      <td>13.0</td>\n",
       "      <td>21.0</td>\n",
       "      <td>50.0</td>\n",
       "      <td>13.0</td>\n",
       "      <td>18.0</td>\n",
       "      <td>21.0</td>\n",
       "      <td>...</td>\n",
       "      <td>12.0</td>\n",
       "      <td>38.0</td>\n",
       "      <td>30.0</td>\n",
       "      <td>12.0</td>\n",
       "      <td>68.0</td>\n",
       "      <td>40.0</td>\n",
       "      <td>68.0</td>\n",
       "      <td>15.0</td>\n",
       "      <td>21.0</td>\n",
       "      <td>13.0</td>\n",
       "    </tr>\n",
       "    <tr>\n",
       "      <th>4</th>\n",
       "      <td>RCM</td>\n",
       "      <td>5'11</td>\n",
       "      <td>154lbs</td>\n",
       "      <td>93.0</td>\n",
       "      <td>82.0</td>\n",
       "      <td>55.0</td>\n",
       "      <td>92.0</td>\n",
       "      <td>82.0</td>\n",
       "      <td>86.0</td>\n",
       "      <td>85.0</td>\n",
       "      <td>...</td>\n",
       "      <td>91.0</td>\n",
       "      <td>76.0</td>\n",
       "      <td>61.0</td>\n",
       "      <td>87.0</td>\n",
       "      <td>94.0</td>\n",
       "      <td>79.0</td>\n",
       "      <td>88.0</td>\n",
       "      <td>68.0</td>\n",
       "      <td>58.0</td>\n",
       "      <td>51.0</td>\n",
       "    </tr>\n",
       "  </tbody>\n",
       "</table>\n",
       "<p>5 rows × 32 columns</p>\n",
       "</div>"
      ],
      "text/plain": [
       "  Position Height  Weight  Crossing  Finishing  HeadingAccuracy  ShortPassing  \\\n",
       "0       RF    5'7  159lbs      84.0       95.0             70.0          90.0   \n",
       "1       ST    6'2  183lbs      84.0       94.0             89.0          81.0   \n",
       "2       LW    5'9  150lbs      79.0       87.0             62.0          84.0   \n",
       "3       GK    6'4  168lbs      17.0       13.0             21.0          50.0   \n",
       "4      RCM   5'11  154lbs      93.0       82.0             55.0          92.0   \n",
       "\n",
       "   Volleys  Dribbling  Curve  ...  LongShots  Aggression  Interceptions  \\\n",
       "0     86.0       97.0   93.0  ...       94.0        48.0           22.0   \n",
       "1     87.0       88.0   81.0  ...       93.0        63.0           29.0   \n",
       "2     84.0       96.0   88.0  ...       82.0        56.0           36.0   \n",
       "3     13.0       18.0   21.0  ...       12.0        38.0           30.0   \n",
       "4     82.0       86.0   85.0  ...       91.0        76.0           61.0   \n",
       "\n",
       "   Positioning  Vision  Penalties  Composure  Marking  StandingTackle  \\\n",
       "0         94.0    94.0       75.0       96.0     33.0            28.0   \n",
       "1         95.0    82.0       85.0       95.0     28.0            31.0   \n",
       "2         89.0    87.0       81.0       94.0     27.0            24.0   \n",
       "3         12.0    68.0       40.0       68.0     15.0            21.0   \n",
       "4         87.0    94.0       79.0       88.0     68.0            58.0   \n",
       "\n",
       "   SlidingTackle  \n",
       "0           26.0  \n",
       "1           23.0  \n",
       "2           33.0  \n",
       "3           13.0  \n",
       "4           51.0  \n",
       "\n",
       "[5 rows x 32 columns]"
      ]
     },
     "execution_count": 8,
     "metadata": {},
     "output_type": "execute_result"
    }
   ],
   "source": [
    "df.head()"
   ]
  },
  {
   "cell_type": "code",
   "execution_count": 9,
   "metadata": {},
   "outputs": [
    {
     "name": "stdout",
     "output_type": "stream",
     "text": [
      "0 Position\n",
      "1 Height\n",
      "2 Weight\n",
      "3 Crossing\n",
      "4 Finishing\n",
      "5 HeadingAccuracy\n",
      "6 ShortPassing\n",
      "7 Volleys\n",
      "8 Dribbling\n",
      "9 Curve\n",
      "10 FKAccuracy\n",
      "11 LongPassing\n",
      "12 BallControl\n",
      "13 Acceleration\n",
      "14 SprintSpeed\n",
      "15 Agility\n",
      "16 Reactions\n",
      "17 Balance\n",
      "18 ShotPower\n",
      "19 Jumping\n",
      "20 Stamina\n",
      "21 Strength\n",
      "22 LongShots\n",
      "23 Aggression\n",
      "24 Interceptions\n",
      "25 Positioning\n",
      "26 Vision\n",
      "27 Penalties\n",
      "28 Composure\n",
      "29 Marking\n",
      "30 StandingTackle\n",
      "31 SlidingTackle\n"
     ]
    }
   ],
   "source": [
    "# Lista as colunas\n",
    "for i, column in enumerate(df.columns):\n",
    "    print(i, column)"
   ]
  },
  {
   "cell_type": "markdown",
   "metadata": {},
   "source": [
    "## Tratando os valores faltantes"
   ]
  },
  {
   "cell_type": "code",
   "execution_count": 10,
   "metadata": {},
   "outputs": [
    {
     "data": {
      "text/plain": [
       "Position           60\n",
       "Height             48\n",
       "Weight             48\n",
       "Crossing           48\n",
       "Finishing          48\n",
       "HeadingAccuracy    48\n",
       "ShortPassing       48\n",
       "Volleys            48\n",
       "Dribbling          48\n",
       "Curve              48\n",
       "FKAccuracy         48\n",
       "LongPassing        48\n",
       "BallControl        48\n",
       "Acceleration       48\n",
       "SprintSpeed        48\n",
       "Agility            48\n",
       "Reactions          48\n",
       "Balance            48\n",
       "ShotPower          48\n",
       "Jumping            48\n",
       "Stamina            48\n",
       "Strength           48\n",
       "LongShots          48\n",
       "Aggression         48\n",
       "Interceptions      48\n",
       "Positioning        48\n",
       "Vision             48\n",
       "Penalties          48\n",
       "Composure          48\n",
       "Marking            48\n",
       "StandingTackle     48\n",
       "SlidingTackle      48\n",
       "dtype: int64"
      ]
     },
     "execution_count": 10,
     "metadata": {},
     "output_type": "execute_result"
    }
   ],
   "source": [
    "# Vê a quantidade de missing values em cada coluna\n",
    "df.isna().sum(axis = 0)"
   ]
  },
  {
   "cell_type": "code",
   "execution_count": 11,
   "metadata": {},
   "outputs": [
    {
     "data": {
      "text/plain": [
       "18207"
      ]
     },
     "execution_count": 11,
     "metadata": {},
     "output_type": "execute_result"
    }
   ],
   "source": [
    "len(df)"
   ]
  },
  {
   "cell_type": "code",
   "execution_count": 12,
   "metadata": {},
   "outputs": [
    {
     "data": {
      "text/plain": [
       "18147"
      ]
     },
     "execution_count": 12,
     "metadata": {},
     "output_type": "execute_result"
    }
   ],
   "source": [
    "len(df.dropna())"
   ]
  },
  {
   "cell_type": "code",
   "execution_count": 13,
   "metadata": {},
   "outputs": [],
   "source": [
    "# Apagandos os 60 registros faltantes, pois equivalem a apenas 0,3% das base total\n",
    "df = df.dropna()"
   ]
  },
  {
   "cell_type": "code",
   "execution_count": 14,
   "metadata": {},
   "outputs": [
    {
     "data": {
      "text/plain": [
       "(18147, 32)"
      ]
     },
     "execution_count": 14,
     "metadata": {},
     "output_type": "execute_result"
    }
   ],
   "source": [
    "## novo tamanho da base de dados\n",
    "df.shape"
   ]
  },
  {
   "cell_type": "code",
   "execution_count": 15,
   "metadata": {},
   "outputs": [
    {
     "data": {
      "text/plain": [
       "Position           0\n",
       "Height             0\n",
       "Weight             0\n",
       "Crossing           0\n",
       "Finishing          0\n",
       "HeadingAccuracy    0\n",
       "ShortPassing       0\n",
       "Volleys            0\n",
       "Dribbling          0\n",
       "Curve              0\n",
       "FKAccuracy         0\n",
       "LongPassing        0\n",
       "BallControl        0\n",
       "Acceleration       0\n",
       "SprintSpeed        0\n",
       "Agility            0\n",
       "Reactions          0\n",
       "Balance            0\n",
       "ShotPower          0\n",
       "Jumping            0\n",
       "Stamina            0\n",
       "Strength           0\n",
       "LongShots          0\n",
       "Aggression         0\n",
       "Interceptions      0\n",
       "Positioning        0\n",
       "Vision             0\n",
       "Penalties          0\n",
       "Composure          0\n",
       "Marking            0\n",
       "StandingTackle     0\n",
       "SlidingTackle      0\n",
       "dtype: int64"
      ]
     },
     "execution_count": 15,
     "metadata": {},
     "output_type": "execute_result"
    }
   ],
   "source": [
    "# Checa se ainda há valores faltantes\n",
    "df.isna().sum(axis= 0)"
   ]
  },
  {
   "cell_type": "markdown",
   "metadata": {},
   "source": [
    "## Inspecionando as estatísticas"
   ]
  },
  {
   "cell_type": "code",
   "execution_count": 16,
   "metadata": {},
   "outputs": [],
   "source": [
    "# função definida para plotar o histograma e o boxplot\n",
    "def hist_boxplot(feature):\n",
    "    fig, ax = plt.subplots(1, 2)\n",
    "    ax[0].hist(feature)\n",
    "    ax[1].boxplot(feature)"
   ]
  },
  {
   "cell_type": "code",
   "execution_count": 17,
   "metadata": {},
   "outputs": [
    {
     "data": {
      "text/html": [
       "<div>\n",
       "<style scoped>\n",
       "    .dataframe tbody tr th:only-of-type {\n",
       "        vertical-align: middle;\n",
       "    }\n",
       "\n",
       "    .dataframe tbody tr th {\n",
       "        vertical-align: top;\n",
       "    }\n",
       "\n",
       "    .dataframe thead th {\n",
       "        text-align: right;\n",
       "    }\n",
       "</style>\n",
       "<table border=\"1\" class=\"dataframe\">\n",
       "  <thead>\n",
       "    <tr style=\"text-align: right;\">\n",
       "      <th></th>\n",
       "      <th>Crossing</th>\n",
       "      <th>Finishing</th>\n",
       "      <th>HeadingAccuracy</th>\n",
       "      <th>ShortPassing</th>\n",
       "      <th>Volleys</th>\n",
       "      <th>Dribbling</th>\n",
       "      <th>Curve</th>\n",
       "      <th>FKAccuracy</th>\n",
       "      <th>LongPassing</th>\n",
       "      <th>BallControl</th>\n",
       "      <th>...</th>\n",
       "      <th>LongShots</th>\n",
       "      <th>Aggression</th>\n",
       "      <th>Interceptions</th>\n",
       "      <th>Positioning</th>\n",
       "      <th>Vision</th>\n",
       "      <th>Penalties</th>\n",
       "      <th>Composure</th>\n",
       "      <th>Marking</th>\n",
       "      <th>StandingTackle</th>\n",
       "      <th>SlidingTackle</th>\n",
       "    </tr>\n",
       "  </thead>\n",
       "  <tbody>\n",
       "    <tr>\n",
       "      <th>count</th>\n",
       "      <td>18147.000000</td>\n",
       "      <td>18147.000000</td>\n",
       "      <td>18147.000000</td>\n",
       "      <td>18147.000000</td>\n",
       "      <td>18147.000000</td>\n",
       "      <td>18147.000000</td>\n",
       "      <td>18147.000000</td>\n",
       "      <td>18147.000000</td>\n",
       "      <td>18147.000000</td>\n",
       "      <td>18147.000000</td>\n",
       "      <td>...</td>\n",
       "      <td>18147.000000</td>\n",
       "      <td>18147.000000</td>\n",
       "      <td>18147.000000</td>\n",
       "      <td>18147.000000</td>\n",
       "      <td>18147.000000</td>\n",
       "      <td>18147.000000</td>\n",
       "      <td>18147.000000</td>\n",
       "      <td>18147.000000</td>\n",
       "      <td>18147.000000</td>\n",
       "      <td>18147.000000</td>\n",
       "    </tr>\n",
       "    <tr>\n",
       "      <th>mean</th>\n",
       "      <td>49.738414</td>\n",
       "      <td>45.550229</td>\n",
       "      <td>52.300766</td>\n",
       "      <td>58.695432</td>\n",
       "      <td>42.912217</td>\n",
       "      <td>55.375158</td>\n",
       "      <td>47.176283</td>\n",
       "      <td>42.866038</td>\n",
       "      <td>52.721386</td>\n",
       "      <td>58.374828</td>\n",
       "      <td>...</td>\n",
       "      <td>47.113187</td>\n",
       "      <td>55.876068</td>\n",
       "      <td>46.702761</td>\n",
       "      <td>49.962198</td>\n",
       "      <td>53.407781</td>\n",
       "      <td>48.546371</td>\n",
       "      <td>58.651127</td>\n",
       "      <td>47.286053</td>\n",
       "      <td>47.701879</td>\n",
       "      <td>45.666336</td>\n",
       "    </tr>\n",
       "    <tr>\n",
       "      <th>std</th>\n",
       "      <td>18.364255</td>\n",
       "      <td>19.527445</td>\n",
       "      <td>17.381753</td>\n",
       "      <td>14.696075</td>\n",
       "      <td>17.695900</td>\n",
       "      <td>18.912224</td>\n",
       "      <td>18.396009</td>\n",
       "      <td>17.480034</td>\n",
       "      <td>15.325211</td>\n",
       "      <td>16.685643</td>\n",
       "      <td>...</td>\n",
       "      <td>19.263142</td>\n",
       "      <td>17.366534</td>\n",
       "      <td>20.697462</td>\n",
       "      <td>19.530469</td>\n",
       "      <td>14.146594</td>\n",
       "      <td>15.703113</td>\n",
       "      <td>11.437138</td>\n",
       "      <td>19.900450</td>\n",
       "      <td>21.663630</td>\n",
       "      <td>21.287961</td>\n",
       "    </tr>\n",
       "    <tr>\n",
       "      <th>min</th>\n",
       "      <td>5.000000</td>\n",
       "      <td>2.000000</td>\n",
       "      <td>4.000000</td>\n",
       "      <td>7.000000</td>\n",
       "      <td>4.000000</td>\n",
       "      <td>4.000000</td>\n",
       "      <td>6.000000</td>\n",
       "      <td>3.000000</td>\n",
       "      <td>9.000000</td>\n",
       "      <td>5.000000</td>\n",
       "      <td>...</td>\n",
       "      <td>3.000000</td>\n",
       "      <td>11.000000</td>\n",
       "      <td>3.000000</td>\n",
       "      <td>2.000000</td>\n",
       "      <td>10.000000</td>\n",
       "      <td>5.000000</td>\n",
       "      <td>3.000000</td>\n",
       "      <td>3.000000</td>\n",
       "      <td>2.000000</td>\n",
       "      <td>3.000000</td>\n",
       "    </tr>\n",
       "    <tr>\n",
       "      <th>25%</th>\n",
       "      <td>38.000000</td>\n",
       "      <td>30.000000</td>\n",
       "      <td>44.000000</td>\n",
       "      <td>54.000000</td>\n",
       "      <td>30.000000</td>\n",
       "      <td>49.000000</td>\n",
       "      <td>34.000000</td>\n",
       "      <td>31.000000</td>\n",
       "      <td>43.000000</td>\n",
       "      <td>54.000000</td>\n",
       "      <td>...</td>\n",
       "      <td>33.000000</td>\n",
       "      <td>44.000000</td>\n",
       "      <td>26.000000</td>\n",
       "      <td>38.000000</td>\n",
       "      <td>44.000000</td>\n",
       "      <td>39.000000</td>\n",
       "      <td>51.000000</td>\n",
       "      <td>30.000000</td>\n",
       "      <td>27.000000</td>\n",
       "      <td>24.000000</td>\n",
       "    </tr>\n",
       "    <tr>\n",
       "      <th>50%</th>\n",
       "      <td>54.000000</td>\n",
       "      <td>49.000000</td>\n",
       "      <td>56.000000</td>\n",
       "      <td>62.000000</td>\n",
       "      <td>44.000000</td>\n",
       "      <td>61.000000</td>\n",
       "      <td>48.000000</td>\n",
       "      <td>41.000000</td>\n",
       "      <td>56.000000</td>\n",
       "      <td>63.000000</td>\n",
       "      <td>...</td>\n",
       "      <td>51.000000</td>\n",
       "      <td>59.000000</td>\n",
       "      <td>52.000000</td>\n",
       "      <td>55.000000</td>\n",
       "      <td>55.000000</td>\n",
       "      <td>49.000000</td>\n",
       "      <td>60.000000</td>\n",
       "      <td>53.000000</td>\n",
       "      <td>55.000000</td>\n",
       "      <td>52.000000</td>\n",
       "    </tr>\n",
       "    <tr>\n",
       "      <th>75%</th>\n",
       "      <td>64.000000</td>\n",
       "      <td>62.000000</td>\n",
       "      <td>64.000000</td>\n",
       "      <td>68.000000</td>\n",
       "      <td>57.000000</td>\n",
       "      <td>68.000000</td>\n",
       "      <td>62.000000</td>\n",
       "      <td>57.000000</td>\n",
       "      <td>64.000000</td>\n",
       "      <td>69.000000</td>\n",
       "      <td>...</td>\n",
       "      <td>62.000000</td>\n",
       "      <td>69.000000</td>\n",
       "      <td>64.000000</td>\n",
       "      <td>64.000000</td>\n",
       "      <td>64.000000</td>\n",
       "      <td>60.000000</td>\n",
       "      <td>67.000000</td>\n",
       "      <td>64.000000</td>\n",
       "      <td>66.000000</td>\n",
       "      <td>64.000000</td>\n",
       "    </tr>\n",
       "    <tr>\n",
       "      <th>max</th>\n",
       "      <td>93.000000</td>\n",
       "      <td>95.000000</td>\n",
       "      <td>94.000000</td>\n",
       "      <td>93.000000</td>\n",
       "      <td>90.000000</td>\n",
       "      <td>97.000000</td>\n",
       "      <td>94.000000</td>\n",
       "      <td>94.000000</td>\n",
       "      <td>93.000000</td>\n",
       "      <td>96.000000</td>\n",
       "      <td>...</td>\n",
       "      <td>94.000000</td>\n",
       "      <td>95.000000</td>\n",
       "      <td>92.000000</td>\n",
       "      <td>95.000000</td>\n",
       "      <td>94.000000</td>\n",
       "      <td>92.000000</td>\n",
       "      <td>96.000000</td>\n",
       "      <td>94.000000</td>\n",
       "      <td>93.000000</td>\n",
       "      <td>91.000000</td>\n",
       "    </tr>\n",
       "  </tbody>\n",
       "</table>\n",
       "<p>8 rows × 29 columns</p>\n",
       "</div>"
      ],
      "text/plain": [
       "           Crossing     Finishing  HeadingAccuracy  ShortPassing  \\\n",
       "count  18147.000000  18147.000000     18147.000000  18147.000000   \n",
       "mean      49.738414     45.550229        52.300766     58.695432   \n",
       "std       18.364255     19.527445        17.381753     14.696075   \n",
       "min        5.000000      2.000000         4.000000      7.000000   \n",
       "25%       38.000000     30.000000        44.000000     54.000000   \n",
       "50%       54.000000     49.000000        56.000000     62.000000   \n",
       "75%       64.000000     62.000000        64.000000     68.000000   \n",
       "max       93.000000     95.000000        94.000000     93.000000   \n",
       "\n",
       "            Volleys     Dribbling         Curve    FKAccuracy   LongPassing  \\\n",
       "count  18147.000000  18147.000000  18147.000000  18147.000000  18147.000000   \n",
       "mean      42.912217     55.375158     47.176283     42.866038     52.721386   \n",
       "std       17.695900     18.912224     18.396009     17.480034     15.325211   \n",
       "min        4.000000      4.000000      6.000000      3.000000      9.000000   \n",
       "25%       30.000000     49.000000     34.000000     31.000000     43.000000   \n",
       "50%       44.000000     61.000000     48.000000     41.000000     56.000000   \n",
       "75%       57.000000     68.000000     62.000000     57.000000     64.000000   \n",
       "max       90.000000     97.000000     94.000000     94.000000     93.000000   \n",
       "\n",
       "        BallControl  ...     LongShots    Aggression  Interceptions  \\\n",
       "count  18147.000000  ...  18147.000000  18147.000000   18147.000000   \n",
       "mean      58.374828  ...     47.113187     55.876068      46.702761   \n",
       "std       16.685643  ...     19.263142     17.366534      20.697462   \n",
       "min        5.000000  ...      3.000000     11.000000       3.000000   \n",
       "25%       54.000000  ...     33.000000     44.000000      26.000000   \n",
       "50%       63.000000  ...     51.000000     59.000000      52.000000   \n",
       "75%       69.000000  ...     62.000000     69.000000      64.000000   \n",
       "max       96.000000  ...     94.000000     95.000000      92.000000   \n",
       "\n",
       "        Positioning        Vision     Penalties     Composure       Marking  \\\n",
       "count  18147.000000  18147.000000  18147.000000  18147.000000  18147.000000   \n",
       "mean      49.962198     53.407781     48.546371     58.651127     47.286053   \n",
       "std       19.530469     14.146594     15.703113     11.437138     19.900450   \n",
       "min        2.000000     10.000000      5.000000      3.000000      3.000000   \n",
       "25%       38.000000     44.000000     39.000000     51.000000     30.000000   \n",
       "50%       55.000000     55.000000     49.000000     60.000000     53.000000   \n",
       "75%       64.000000     64.000000     60.000000     67.000000     64.000000   \n",
       "max       95.000000     94.000000     92.000000     96.000000     94.000000   \n",
       "\n",
       "       StandingTackle  SlidingTackle  \n",
       "count    18147.000000   18147.000000  \n",
       "mean        47.701879      45.666336  \n",
       "std         21.663630      21.287961  \n",
       "min          2.000000       3.000000  \n",
       "25%         27.000000      24.000000  \n",
       "50%         55.000000      52.000000  \n",
       "75%         66.000000      64.000000  \n",
       "max         93.000000      91.000000  \n",
       "\n",
       "[8 rows x 29 columns]"
      ]
     },
     "execution_count": 17,
     "metadata": {},
     "output_type": "execute_result"
    }
   ],
   "source": [
    "df_describe = df.describe()\n",
    "df_describe"
   ]
  },
  {
   "cell_type": "code",
   "execution_count": 18,
   "metadata": {},
   "outputs": [
    {
     "data": {
      "text/plain": [
       "Crossing            5.0\n",
       "Finishing           2.0\n",
       "HeadingAccuracy     4.0\n",
       "ShortPassing        7.0\n",
       "Volleys             4.0\n",
       "Dribbling           4.0\n",
       "Curve               6.0\n",
       "FKAccuracy          3.0\n",
       "LongPassing         9.0\n",
       "BallControl         5.0\n",
       "Acceleration       12.0\n",
       "SprintSpeed        12.0\n",
       "Agility            14.0\n",
       "Reactions          21.0\n",
       "Balance            16.0\n",
       "ShotPower           2.0\n",
       "Jumping            15.0\n",
       "Stamina            12.0\n",
       "Strength           17.0\n",
       "LongShots           3.0\n",
       "Aggression         11.0\n",
       "Interceptions       3.0\n",
       "Positioning         2.0\n",
       "Vision             10.0\n",
       "Penalties           5.0\n",
       "Composure           3.0\n",
       "Marking             3.0\n",
       "StandingTackle      2.0\n",
       "SlidingTackle       3.0\n",
       "Name: min, dtype: float64"
      ]
     },
     "execution_count": 18,
     "metadata": {},
     "output_type": "execute_result"
    }
   ],
   "source": [
    "df_describe.loc['min']"
   ]
  },
  {
   "cell_type": "code",
   "execution_count": 19,
   "metadata": {},
   "outputs": [
    {
     "data": {
      "image/png": "[encoded data removed]",
      "text/plain": [
       "<Figure size 432x288 with 2 Axes>"
      ]
     },
     "metadata": {
      "needs_background": "light"
     },
     "output_type": "display_data"
    }
   ],
   "source": [
    "hist_boxplot(df_describe.loc['min'])"
   ]
  },
  {
   "cell_type": "code",
   "execution_count": 20,
   "metadata": {},
   "outputs": [
    {
     "data": {
      "image/png": "[encoded data removed]",
      "text/plain": [
       "<Figure size 432x288 with 2 Axes>"
      ]
     },
     "metadata": {
      "needs_background": "light"
     },
     "output_type": "display_data"
    }
   ],
   "source": [
    "hist_boxplot(df_describe.loc['max']) "
   ]
  },
  {
   "cell_type": "code",
   "execution_count": 21,
   "metadata": {},
   "outputs": [
    {
     "data": {
      "image/png": "[encoded data removed]",
      "text/plain": [
       "<Figure size 432x288 with 2 Axes>"
      ]
     },
     "metadata": {
      "needs_background": "light"
     },
     "output_type": "display_data"
    }
   ],
   "source": [
    "hist_boxplot(df_describe.loc['mean'])"
   ]
  },
  {
   "cell_type": "markdown",
   "metadata": {},
   "source": [
    "## Tratamento da altura do jogador"
   ]
  },
  {
   "cell_type": "code",
   "execution_count": 22,
   "metadata": {},
   "outputs": [
    {
     "data": {
      "text/plain": [
       "Position            object\n",
       "Height              object\n",
       "Weight              object\n",
       "Crossing           float64\n",
       "Finishing          float64\n",
       "HeadingAccuracy    float64\n",
       "ShortPassing       float64\n",
       "Volleys            float64\n",
       "Dribbling          float64\n",
       "Curve              float64\n",
       "FKAccuracy         float64\n",
       "LongPassing        float64\n",
       "BallControl        float64\n",
       "Acceleration       float64\n",
       "SprintSpeed        float64\n",
       "Agility            float64\n",
       "Reactions          float64\n",
       "Balance            float64\n",
       "ShotPower          float64\n",
       "Jumping            float64\n",
       "Stamina            float64\n",
       "Strength           float64\n",
       "LongShots          float64\n",
       "Aggression         float64\n",
       "Interceptions      float64\n",
       "Positioning        float64\n",
       "Vision             float64\n",
       "Penalties          float64\n",
       "Composure          float64\n",
       "Marking            float64\n",
       "StandingTackle     float64\n",
       "SlidingTackle      float64\n",
       "dtype: object"
      ]
     },
     "execution_count": 22,
     "metadata": {},
     "output_type": "execute_result"
    }
   ],
   "source": [
    "df.dtypes"
   ]
  },
  {
   "cell_type": "code",
   "execution_count": 23,
   "metadata": {},
   "outputs": [
    {
     "data": {
      "text/plain": [
       "0      5'7\n",
       "1      6'2\n",
       "2      5'9\n",
       "3      6'4\n",
       "4     5'11\n",
       "5      5'8\n",
       "6      5'8\n",
       "7      6'0\n",
       "8      6'0\n",
       "9      6'2\n",
       "10     6'0\n",
       "11     6'0\n",
       "12     6'2\n",
       "13     5'8\n",
       "14     5'6\n",
       "15    5'10\n",
       "16     6'2\n",
       "17     5'9\n",
       "18     6'2\n",
       "19     6'6\n",
       "20     6'2\n",
       "21     6'1\n",
       "22     6'4\n",
       "23     5'8\n",
       "24     6'2\n",
       "25    5'10\n",
       "26     5'9\n",
       "27     6'1\n",
       "28    5'11\n",
       "29     5'4\n",
       "30     5'9\n",
       "31    5'11\n",
       "32     5'8\n",
       "33     6'2\n",
       "34     6'3\n",
       "35     5'9\n",
       "36     6'1\n",
       "37     6'2\n",
       "38     6'1\n",
       "39     6'0\n",
       "40     6'4\n",
       "41     6'4\n",
       "42     6'0\n",
       "43    5'11\n",
       "44     6'2\n",
       "45     6'4\n",
       "46     6'1\n",
       "47     6'3\n",
       "48     6'1\n",
       "49     5'7\n",
       "Name: Height, dtype: object"
      ]
     },
     "execution_count": 23,
     "metadata": {},
     "output_type": "execute_result"
    }
   ],
   "source": [
    "df['Height'].head(50)"
   ]
  },
  {
   "cell_type": "code",
   "execution_count": 24,
   "metadata": {},
   "outputs": [
    {
     "data": {
      "text/plain": [
       "0         [5, 7]\n",
       "1         [6, 2]\n",
       "2         [5, 9]\n",
       "3         [6, 4]\n",
       "4        [5, 11]\n",
       "          ...   \n",
       "18202     [5, 9]\n",
       "18203     [6, 3]\n",
       "18204     [5, 8]\n",
       "18205    [5, 10]\n",
       "18206    [5, 10]\n",
       "Name: Height, Length: 18147, dtype: object"
      ]
     },
     "execution_count": 24,
     "metadata": {},
     "output_type": "execute_result"
    }
   ],
   "source": [
    "df['Height'] = df['Height'].str.split('\\'')\n",
    "df['Height']"
   ]
  },
  {
   "cell_type": "code",
   "execution_count": 25,
   "metadata": {},
   "outputs": [
    {
     "data": {
      "text/plain": [
       "0        170.18\n",
       "1        187.96\n",
       "2        175.26\n",
       "3        193.04\n",
       "4        180.34\n",
       "          ...  \n",
       "18202    175.26\n",
       "18203    190.50\n",
       "18204    172.72\n",
       "18205    177.80\n",
       "18206    177.80\n",
       "Name: Height, Length: 18147, dtype: float64"
      ]
     },
     "execution_count": 25,
     "metadata": {},
     "output_type": "execute_result"
    }
   ],
   "source": [
    "df['Height'] = [30.48* int(elem[0]) + 2.54 * int(elem[1]) for elem in df['Height']]\n",
    "df['Height']"
   ]
  },
  {
   "cell_type": "code",
   "execution_count": 26,
   "metadata": {},
   "outputs": [
    {
     "data": {
      "image/png": "[encoded data removed]",
      "text/plain": [
       "<Figure size 432x288 with 2 Axes>"
      ]
     },
     "metadata": {
      "needs_background": "light"
     },
     "output_type": "display_data"
    }
   ],
   "source": [
    "hist_boxplot(df['Height'])"
   ]
  },
  {
   "cell_type": "markdown",
   "metadata": {},
   "source": [
    "## Preparação peso dos jogadores"
   ]
  },
  {
   "cell_type": "code",
   "execution_count": 27,
   "metadata": {},
   "outputs": [
    {
     "data": {
      "text/plain": [
       "0    159lbs\n",
       "1    183lbs\n",
       "2    150lbs\n",
       "3    168lbs\n",
       "4    154lbs\n",
       "Name: Weight, dtype: object"
      ]
     },
     "execution_count": 27,
     "metadata": {},
     "output_type": "execute_result"
    }
   ],
   "source": [
    "df['Weight'].head()"
   ]
  },
  {
   "cell_type": "code",
   "execution_count": 28,
   "metadata": {},
   "outputs": [
    {
     "data": {
      "text/plain": [
       "0        [159, bs]\n",
       "1        [183, bs]\n",
       "2        [150, bs]\n",
       "3        [168, bs]\n",
       "4        [154, bs]\n",
       "           ...    \n",
       "18202    [134, bs]\n",
       "18203    [170, bs]\n",
       "18204    [148, bs]\n",
       "18205    [154, bs]\n",
       "18206    [176, bs]\n",
       "Name: Weight, Length: 18147, dtype: object"
      ]
     },
     "execution_count": 28,
     "metadata": {},
     "output_type": "execute_result"
    }
   ],
   "source": [
    "## Converter peso de libras para kg\n",
    "df['Weight'] = df['Weight'].str.split('l')\n",
    "df['Weight']"
   ]
  },
  {
   "cell_type": "code",
   "execution_count": 29,
   "metadata": {},
   "outputs": [
    {
     "data": {
      "text/plain": [
       "0        72.027\n",
       "1        82.899\n",
       "2        67.950\n",
       "3        76.104\n",
       "4        69.762\n",
       "          ...  \n",
       "18202    60.702\n",
       "18203    77.010\n",
       "18204    67.044\n",
       "18205    69.762\n",
       "18206    79.728\n",
       "Name: Weight, Length: 18147, dtype: float64"
      ]
     },
     "execution_count": 29,
     "metadata": {},
     "output_type": "execute_result"
    }
   ],
   "source": [
    "df['Weight'] = [int(elem[0])*0.453 for elem in df['Weight']]\n",
    "df['Weight']"
   ]
  },
  {
   "cell_type": "code",
   "execution_count": 30,
   "metadata": {},
   "outputs": [
    {
     "data": {
      "image/png": "[encoded data removed]",
      "text/plain": [
       "<Figure size 432x288 with 2 Axes>"
      ]
     },
     "metadata": {
      "needs_background": "light"
     },
     "output_type": "display_data"
    }
   ],
   "source": [
    "hist_boxplot(df['Weight'])"
   ]
  },
  {
   "cell_type": "markdown",
   "metadata": {},
   "source": [
    "## Preparação da base de dados para agrupamento"
   ]
  },
  {
   "cell_type": "code",
   "execution_count": 31,
   "metadata": {},
   "outputs": [
    {
     "name": "stdout",
     "output_type": "stream",
     "text": [
      "['RF' 'ST' 'LW' ... 'ST' 'RW' 'CM']\n"
     ]
    }
   ],
   "source": [
    "position = np.array(df['Position'])\n",
    "print(position)"
   ]
  },
  {
   "cell_type": "code",
   "execution_count": 32,
   "metadata": {},
   "outputs": [
    {
     "data": {
      "text/plain": [
       "(array(['CAM', 'CB', 'CDM', 'CF', 'CM', 'GK', 'LAM', 'LB', 'LCB', 'LCM',\n",
       "        'LDM', 'LF', 'LM', 'LS', 'LW', 'LWB', 'RAM', 'RB', 'RCB', 'RCM',\n",
       "        'RDM', 'RF', 'RM', 'RS', 'RW', 'RWB', 'ST'], dtype=object),\n",
       " array([ 958, 1778,  948,   74, 1394, 2025,   21, 1322,  648,  395,  243,\n",
       "          15, 1095,  207,  381,   78,   21, 1291,  662,  391,  248,   16,\n",
       "        1124,  203,  370,   87, 2152], dtype=int64))"
      ]
     },
     "execution_count": 32,
     "metadata": {},
     "output_type": "execute_result"
    }
   ],
   "source": [
    "np.unique(position, return_counts = True)"
   ]
  },
  {
   "cell_type": "code",
   "execution_count": 33,
   "metadata": {},
   "outputs": [
    {
     "data": {
      "text/html": [
       "<div>\n",
       "<style scoped>\n",
       "    .dataframe tbody tr th:only-of-type {\n",
       "        vertical-align: middle;\n",
       "    }\n",
       "\n",
       "    .dataframe tbody tr th {\n",
       "        vertical-align: top;\n",
       "    }\n",
       "\n",
       "    .dataframe thead th {\n",
       "        text-align: right;\n",
       "    }\n",
       "</style>\n",
       "<table border=\"1\" class=\"dataframe\">\n",
       "  <thead>\n",
       "    <tr style=\"text-align: right;\">\n",
       "      <th></th>\n",
       "      <th>Height</th>\n",
       "      <th>Weight</th>\n",
       "      <th>Crossing</th>\n",
       "      <th>Finishing</th>\n",
       "      <th>HeadingAccuracy</th>\n",
       "      <th>ShortPassing</th>\n",
       "      <th>Volleys</th>\n",
       "      <th>Dribbling</th>\n",
       "      <th>Curve</th>\n",
       "      <th>FKAccuracy</th>\n",
       "      <th>...</th>\n",
       "      <th>LongShots</th>\n",
       "      <th>Aggression</th>\n",
       "      <th>Interceptions</th>\n",
       "      <th>Positioning</th>\n",
       "      <th>Vision</th>\n",
       "      <th>Penalties</th>\n",
       "      <th>Composure</th>\n",
       "      <th>Marking</th>\n",
       "      <th>StandingTackle</th>\n",
       "      <th>SlidingTackle</th>\n",
       "    </tr>\n",
       "  </thead>\n",
       "  <tbody>\n",
       "    <tr>\n",
       "      <th>0</th>\n",
       "      <td>170.18</td>\n",
       "      <td>72.027</td>\n",
       "      <td>84.0</td>\n",
       "      <td>95.0</td>\n",
       "      <td>70.0</td>\n",
       "      <td>90.0</td>\n",
       "      <td>86.0</td>\n",
       "      <td>97.0</td>\n",
       "      <td>93.0</td>\n",
       "      <td>94.0</td>\n",
       "      <td>...</td>\n",
       "      <td>94.0</td>\n",
       "      <td>48.0</td>\n",
       "      <td>22.0</td>\n",
       "      <td>94.0</td>\n",
       "      <td>94.0</td>\n",
       "      <td>75.0</td>\n",
       "      <td>96.0</td>\n",
       "      <td>33.0</td>\n",
       "      <td>28.0</td>\n",
       "      <td>26.0</td>\n",
       "    </tr>\n",
       "    <tr>\n",
       "      <th>1</th>\n",
       "      <td>187.96</td>\n",
       "      <td>82.899</td>\n",
       "      <td>84.0</td>\n",
       "      <td>94.0</td>\n",
       "      <td>89.0</td>\n",
       "      <td>81.0</td>\n",
       "      <td>87.0</td>\n",
       "      <td>88.0</td>\n",
       "      <td>81.0</td>\n",
       "      <td>76.0</td>\n",
       "      <td>...</td>\n",
       "      <td>93.0</td>\n",
       "      <td>63.0</td>\n",
       "      <td>29.0</td>\n",
       "      <td>95.0</td>\n",
       "      <td>82.0</td>\n",
       "      <td>85.0</td>\n",
       "      <td>95.0</td>\n",
       "      <td>28.0</td>\n",
       "      <td>31.0</td>\n",
       "      <td>23.0</td>\n",
       "    </tr>\n",
       "    <tr>\n",
       "      <th>2</th>\n",
       "      <td>175.26</td>\n",
       "      <td>67.950</td>\n",
       "      <td>79.0</td>\n",
       "      <td>87.0</td>\n",
       "      <td>62.0</td>\n",
       "      <td>84.0</td>\n",
       "      <td>84.0</td>\n",
       "      <td>96.0</td>\n",
       "      <td>88.0</td>\n",
       "      <td>87.0</td>\n",
       "      <td>...</td>\n",
       "      <td>82.0</td>\n",
       "      <td>56.0</td>\n",
       "      <td>36.0</td>\n",
       "      <td>89.0</td>\n",
       "      <td>87.0</td>\n",
       "      <td>81.0</td>\n",
       "      <td>94.0</td>\n",
       "      <td>27.0</td>\n",
       "      <td>24.0</td>\n",
       "      <td>33.0</td>\n",
       "    </tr>\n",
       "    <tr>\n",
       "      <th>3</th>\n",
       "      <td>193.04</td>\n",
       "      <td>76.104</td>\n",
       "      <td>17.0</td>\n",
       "      <td>13.0</td>\n",
       "      <td>21.0</td>\n",
       "      <td>50.0</td>\n",
       "      <td>13.0</td>\n",
       "      <td>18.0</td>\n",
       "      <td>21.0</td>\n",
       "      <td>19.0</td>\n",
       "      <td>...</td>\n",
       "      <td>12.0</td>\n",
       "      <td>38.0</td>\n",
       "      <td>30.0</td>\n",
       "      <td>12.0</td>\n",
       "      <td>68.0</td>\n",
       "      <td>40.0</td>\n",
       "      <td>68.0</td>\n",
       "      <td>15.0</td>\n",
       "      <td>21.0</td>\n",
       "      <td>13.0</td>\n",
       "    </tr>\n",
       "    <tr>\n",
       "      <th>4</th>\n",
       "      <td>180.34</td>\n",
       "      <td>69.762</td>\n",
       "      <td>93.0</td>\n",
       "      <td>82.0</td>\n",
       "      <td>55.0</td>\n",
       "      <td>92.0</td>\n",
       "      <td>82.0</td>\n",
       "      <td>86.0</td>\n",
       "      <td>85.0</td>\n",
       "      <td>83.0</td>\n",
       "      <td>...</td>\n",
       "      <td>91.0</td>\n",
       "      <td>76.0</td>\n",
       "      <td>61.0</td>\n",
       "      <td>87.0</td>\n",
       "      <td>94.0</td>\n",
       "      <td>79.0</td>\n",
       "      <td>88.0</td>\n",
       "      <td>68.0</td>\n",
       "      <td>58.0</td>\n",
       "      <td>51.0</td>\n",
       "    </tr>\n",
       "  </tbody>\n",
       "</table>\n",
       "<p>5 rows × 31 columns</p>\n",
       "</div>"
      ],
      "text/plain": [
       "   Height  Weight  Crossing  Finishing  HeadingAccuracy  ShortPassing  \\\n",
       "0  170.18  72.027      84.0       95.0             70.0          90.0   \n",
       "1  187.96  82.899      84.0       94.0             89.0          81.0   \n",
       "2  175.26  67.950      79.0       87.0             62.0          84.0   \n",
       "3  193.04  76.104      17.0       13.0             21.0          50.0   \n",
       "4  180.34  69.762      93.0       82.0             55.0          92.0   \n",
       "\n",
       "   Volleys  Dribbling  Curve  FKAccuracy  ...  LongShots  Aggression  \\\n",
       "0     86.0       97.0   93.0        94.0  ...       94.0        48.0   \n",
       "1     87.0       88.0   81.0        76.0  ...       93.0        63.0   \n",
       "2     84.0       96.0   88.0        87.0  ...       82.0        56.0   \n",
       "3     13.0       18.0   21.0        19.0  ...       12.0        38.0   \n",
       "4     82.0       86.0   85.0        83.0  ...       91.0        76.0   \n",
       "\n",
       "   Interceptions  Positioning  Vision  Penalties  Composure  Marking  \\\n",
       "0           22.0         94.0    94.0       75.0       96.0     33.0   \n",
       "1           29.0         95.0    82.0       85.0       95.0     28.0   \n",
       "2           36.0         89.0    87.0       81.0       94.0     27.0   \n",
       "3           30.0         12.0    68.0       40.0       68.0     15.0   \n",
       "4           61.0         87.0    94.0       79.0       88.0     68.0   \n",
       "\n",
       "   StandingTackle  SlidingTackle  \n",
       "0            28.0           26.0  \n",
       "1            31.0           23.0  \n",
       "2            24.0           33.0  \n",
       "3            21.0           13.0  \n",
       "4            58.0           51.0  \n",
       "\n",
       "[5 rows x 31 columns]"
      ]
     },
     "execution_count": 33,
     "metadata": {},
     "output_type": "execute_result"
    }
   ],
   "source": [
    "df = df.drop(['Position'], axis = 1)\n",
    "df.head()"
   ]
  },
  {
   "cell_type": "code",
   "execution_count": 34,
   "metadata": {},
   "outputs": [],
   "source": [
    "scaler = MinMaxScaler()\n",
    "df_train = scaler.fit_transform(df)"
   ]
  },
  {
   "cell_type": "code",
   "execution_count": 35,
   "metadata": {},
   "outputs": [
    {
     "data": {
      "text/plain": [
       "numpy.ndarray"
      ]
     },
     "execution_count": 35,
     "metadata": {},
     "output_type": "execute_result"
    }
   ],
   "source": [
    "type(df_train)"
   ]
  },
  {
   "cell_type": "code",
   "execution_count": 36,
   "metadata": {},
   "outputs": [
    {
     "data": {
      "text/plain": [
       "array([0.3       , 0.36842105, 0.89772727, 1.        , 0.73333333,\n",
       "       0.96511628, 0.95348837, 1.        , 0.98863636, 1.        ,\n",
       "       0.92857143, 1.        , 0.92941176, 0.88095238, 0.93902439,\n",
       "       0.98666667, 0.9875    , 0.89247312, 0.6625    , 0.71428571,\n",
       "       0.525     , 1.        , 0.44047619, 0.21348315, 0.98924731,\n",
       "       1.        , 0.8045977 , 1.        , 0.32967033, 0.28571429,\n",
       "       0.26136364])"
      ]
     },
     "execution_count": 36,
     "metadata": {},
     "output_type": "execute_result"
    }
   ],
   "source": [
    " df_train[0]"
   ]
  },
  {
   "cell_type": "markdown",
   "metadata": {},
   "source": [
    "## Agrupamento com K-Means"
   ]
  },
  {
   "cell_type": "markdown",
   "metadata": {},
   "source": [
    "### Escolha do número de clusters com WCSS"
   ]
  },
  {
   "cell_type": "code",
   "execution_count": 37,
   "metadata": {},
   "outputs": [],
   "source": [
    "wcss = []\n",
    "K = range(1,12)\n",
    "for k in K:\n",
    "    km = KMeans(n_clusters = k)\n",
    "    km = km.fit(df_train)\n",
    "    wcss.append(km.inertia_)"
   ]
  },
  {
   "cell_type": "code",
   "execution_count": 38,
   "metadata": {},
   "outputs": [
    {
     "data": {
      "text/plain": [
       "[19914.28718803698,\n",
       " 12555.880271124657,\n",
       " 9381.810611713818,\n",
       " 7595.516241184955,\n",
       " 6934.258697022528,\n",
       " 6442.553305767027,\n",
       " 6114.150577983926,\n",
       " 5840.721609011813,\n",
       " 5623.339849859605,\n",
       " 5449.1265464890985,\n",
       " 5327.5748627768935]"
      ]
     },
     "execution_count": 38,
     "metadata": {},
     "output_type": "execute_result"
    }
   ],
   "source": [
    "wcss"
   ]
  },
  {
   "cell_type": "code",
   "execution_count": 39,
   "metadata": {},
   "outputs": [
    {
     "data": {
      "text/plain": [
       "Text(0.5, 1.0, 'Elbow Methos for Optimal K')"
      ]
     },
     "execution_count": 39,
     "metadata": {},
     "output_type": "execute_result"
    },
    {
     "data": {
      "image/png": "[encoded data removed]",
      "text/plain": [
       "<Figure size 432x288 with 1 Axes>"
      ]
     },
     "metadata": {
      "needs_background": "light"
     },
     "output_type": "display_data"
    }
   ],
   "source": [
    "plt.plot(K, wcss, 'bx-')\n",
    "plt.xlabel('Numero de Clusters')\n",
    "plt.ylabel('wcss')\n",
    "plt.title('Elbow Methos for Optimal K')"
   ]
  },
  {
   "cell_type": "markdown",
   "metadata": {},
   "source": [
    "### Redução da dimensionalidade com PCA (Principal Component Analysis)"
   ]
  },
  {
   "cell_type": "code",
   "execution_count": null,
   "metadata": {},
   "outputs": [],
   "source": []
  }
 ],
 "metadata": {
  "kernelspec": {
   "display_name": "Python 3",
   "language": "python",
   "name": "python3"
  },
  "language_info": {
   "codemirror_mode": {
    "name": "ipython",
    "version": 3
   },
   "file_extension": ".py",
   "mimetype": "text/x-python",
   "name": "python",
   "nbconvert_exporter": "python",
   "pygments_lexer": "ipython3",
   "version": "3.7.6"
  }
 },
 "nbformat": 4,
 "nbformat_minor": 4
}
